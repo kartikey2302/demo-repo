{
  "nbformat": 4,
  "nbformat_minor": 0,
  "metadata": {
    "colab": {
      "provenance": [],
      "authorship_tag": "ABX9TyP8jTzgKZb7KWupDoESQN9s",
      "include_colab_link": true
    },
    "kernelspec": {
      "name": "python3",
      "display_name": "Python 3"
    },
    "language_info": {
      "name": "python"
    }
  },
  "cells": [
    {
      "cell_type": "markdown",
      "metadata": {
        "id": "view-in-github",
        "colab_type": "text"
      },
      "source": [
        "<a href=\"https://colab.research.google.com/github/kartikey2302/demo-repo/blob/main/ambitionBox.ipynb\" target=\"_parent\"><img src=\"https://colab.research.google.com/assets/colab-badge.svg\" alt=\"Open In Colab\"/></a>"
      ]
    },
    {
      "cell_type": "markdown",
      "source": [
        "# Web scraping project\n",
        "### Website used - Ambition box\n",
        "##### url -> 'https://www.ambitionbox.com/list-of-companies?campaign=desktop_nav'"
      ],
      "metadata": {
        "id": "tiiPGlfAi2cY"
      }
    },
    {
      "cell_type": "markdown",
      "source": [
        "## Getting the data"
      ],
      "metadata": {
        "id": "pfNe7ywdjCwj"
      }
    },
    {
      "cell_type": "code",
      "source": [
        "import numpy as np \n",
        "import pandas as pd \n",
        "import matplotlib.pyplot as plt\n",
        "import requests"
      ],
      "metadata": {
        "id": "Ce_f3mQejBLu"
      },
      "execution_count": 1,
      "outputs": []
    },
    {
      "cell_type": "code",
      "source": [
        "!pip install beautifulsoup4 --upgrade --quiet"
      ],
      "metadata": {
        "colab": {
          "base_uri": "https://localhost:8080/"
        },
        "id": "N3Zz9kdYjMIY",
        "outputId": "5936d627-a940-4d7c-b0ad-7507b3cc26d4"
      },
      "execution_count": 2,
      "outputs": [
        {
          "output_type": "stream",
          "name": "stdout",
          "text": [
            "\u001b[?25l\r\u001b[K     |██▋                             | 10 kB 22.4 MB/s eta 0:00:01\r\u001b[K     |█████▏                          | 20 kB 8.8 MB/s eta 0:00:01\r\u001b[K     |███████▊                        | 30 kB 12.1 MB/s eta 0:00:01\r\u001b[K     |██████████▎                     | 40 kB 4.6 MB/s eta 0:00:01\r\u001b[K     |████████████▉                   | 51 kB 4.4 MB/s eta 0:00:01\r\u001b[K     |███████████████▍                | 61 kB 5.2 MB/s eta 0:00:01\r\u001b[K     |██████████████████              | 71 kB 5.5 MB/s eta 0:00:01\r\u001b[K     |████████████████████▌           | 81 kB 5.9 MB/s eta 0:00:01\r\u001b[K     |███████████████████████         | 92 kB 6.4 MB/s eta 0:00:01\r\u001b[K     |█████████████████████████▋      | 102 kB 5.0 MB/s eta 0:00:01\r\u001b[K     |████████████████████████████▏   | 112 kB 5.0 MB/s eta 0:00:01\r\u001b[K     |██████████████████████████████▊ | 122 kB 5.0 MB/s eta 0:00:01\r\u001b[K     |████████████████████████████████| 128 kB 5.0 MB/s \n",
            "\u001b[?25h"
          ]
        }
      ]
    },
    {
      "cell_type": "code",
      "source": [
        "from bs4 import BeautifulSoup"
      ],
      "metadata": {
        "id": "QjQJhZqjjQPp"
      },
      "execution_count": 3,
      "outputs": []
    },
    {
      "cell_type": "code",
      "source": [
        "page_url = 'https://www.ambitionbox.com/list-of-companies?campaign=desktop_nav'\n",
        "headers={'User-Agent':'Mozilla/5.0 (Windows NT 6.3; Win 64 ; x64) Apple WeKit /537.36(KHTML , like Gecko) Chrome/80.0.3987.162 Safari/537.36'}\n",
        "html_source_code = BeautifulSoup(requests.get(page_url , headers=headers).text , 'html.parser')"
      ],
      "metadata": {
        "id": "GyfFzuOOkPl5"
      },
      "execution_count": 4,
      "outputs": []
    },
    {
      "cell_type": "code",
      "source": [
        "html_source_code"
      ],
      "metadata": {
        "id": "s3ruZ0c3mozN"
      },
      "execution_count": null,
      "outputs": []
    },
    {
      "cell_type": "markdown",
      "source": [
        "# Processing the data"
      ],
      "metadata": {
        "id": "HzjB0p9cnWWW"
      }
    },
    {
      "cell_type": "code",
      "source": [
        "name_tags = html_source_code.find_all('h2' , class_ ='company-name bold-title-l')"
      ],
      "metadata": {
        "id": "APwwbeN8m5qU"
      },
      "execution_count": 6,
      "outputs": []
    },
    {
      "cell_type": "code",
      "source": [
        "names = [i.text.strip() for i in name_tags]"
      ],
      "metadata": {
        "id": "xF9KSAl6owNG"
      },
      "execution_count": 7,
      "outputs": []
    },
    {
      "cell_type": "code",
      "source": [
        "rating_tags = []\n",
        "rating_tags = html_source_code.find_all('div' , class_ = 'rating-wrapper')\n",
        "rating_tags[0]"
      ],
      "metadata": {
        "colab": {
          "base_uri": "https://localhost:8080/"
        },
        "id": "k-AZJ-YHptQs",
        "outputId": "a94666b4-40fb-4cf3-cdf1-5d3984f9950c"
      },
      "execution_count": 8,
      "outputs": [
        {
          "output_type": "execute_result",
          "data": {
            "text/plain": [
              "<div class=\"rating-wrapper\"><p class=\"rating badge-large rating-35\"><i class=\"icon icon-star\"></i>\n",
              "\t\t\t\t\t\t\t\t\t3.9\n",
              "\t\t\t\t\t\t\t\t</p> <a class=\"review-count sbold-Labels\" href=\"https://www.ambitionbox.com/reviews/tcs-reviews\">\n",
              "\t\t\t\t\t\t\t\t\t(51k Reviews)\n",
              "\t\t\t\t\t\t\t\t</a></div>"
            ]
          },
          "metadata": {},
          "execution_count": 8
        }
      ]
    },
    {
      "cell_type": "code",
      "source": [
        "ratings = [i.p.text.strip() for i in rating_tags] "
      ],
      "metadata": {
        "id": "PmW65u6nqPRo"
      },
      "execution_count": 9,
      "outputs": []
    },
    {
      "cell_type": "code",
      "source": [
        "ratings[:2] , names[:2]"
      ],
      "metadata": {
        "colab": {
          "base_uri": "https://localhost:8080/"
        },
        "id": "hrI_g0Gcr02m",
        "outputId": "4d5166d0-0e24-4786-8438-9259dcf77454"
      },
      "execution_count": 10,
      "outputs": [
        {
          "output_type": "execute_result",
          "data": {
            "text/plain": [
              "(['3.9', '4.1'], ['TCS', 'Accenture'])"
            ]
          },
          "metadata": {},
          "execution_count": 10
        }
      ]
    },
    {
      "cell_type": "code",
      "source": [
        "review_tags = []\n",
        "review_tags = html_source_code.find_all('a' , class_ = 'review-count sbold-Labels')\n",
        "reviews = []\n",
        "reviews = [i.text.strip() for i in review_tags]\n",
        "reviews[0]"
      ],
      "metadata": {
        "colab": {
          "base_uri": "https://localhost:8080/",
          "height": 36
        },
        "id": "JtiJYH66s6D-",
        "outputId": "f830e775-e008-40b8-bf4c-efd4e9de24a5"
      },
      "execution_count": 11,
      "outputs": [
        {
          "output_type": "execute_result",
          "data": {
            "text/plain": [
              "'(51k Reviews)'"
            ],
            "application/vnd.google.colaboratory.intrinsic+json": {
              "type": "string"
            }
          },
          "metadata": {},
          "execution_count": 11
        }
      ]
    },
    {
      "cell_type": "code",
      "source": [
        "len(reviews)"
      ],
      "metadata": {
        "colab": {
          "base_uri": "https://localhost:8080/"
        },
        "id": "5cyN8VuUtoim",
        "outputId": "e8218672-0fee-4ba1-d9c2-d43db4786402"
      },
      "execution_count": 12,
      "outputs": [
        {
          "output_type": "execute_result",
          "data": {
            "text/plain": [
              "30"
            ]
          },
          "metadata": {},
          "execution_count": 12
        }
      ]
    },
    {
      "cell_type": "code",
      "source": [
        "company_info_tags = html_source_code.find_all('div' , class_ = 'company-basic-info')"
      ],
      "metadata": {
        "id": "iF-bf5x9REF3"
      },
      "execution_count": 13,
      "outputs": []
    },
    {
      "cell_type": "code",
      "source": [
        "company_info_tags[0].find_all('p' , class_ = 'infoEntity')"
      ],
      "metadata": {
        "colab": {
          "base_uri": "https://localhost:8080/"
        },
        "id": "m9iHduoLREDH",
        "outputId": "9f50af15-6ff3-4abd-e37e-554891e42e9b"
      },
      "execution_count": 18,
      "outputs": [
        {
          "output_type": "execute_result",
          "data": {
            "text/plain": [
              "[<p class=\"infoEntity sbold-list-header\"><i class=\"icon-domain\"></i>\n",
              " \t\t\t\t\t\t\tPublic\n",
              " \t\t\t\t\t\t</p>,\n",
              " <p class=\"infoEntity sbold-list-header\"><i class=\"icon-pin-drop\"></i>\n",
              " \t\t\t\t\t\t\tMumbai,Maharashtra + 280 more\n",
              " \t\t\t\t\t\t</p>,\n",
              " <p class=\"infoEntity sbold-list-header\"><i class=\"icon-access-time\"></i>\n",
              " \t\t\t\t\t\t\t54 years old\n",
              " \t\t\t\t\t\t</p>,\n",
              " <p class=\"infoEntity sbold-list-header\"><i class=\"icon-supervisor-account\"></i>\n",
              " \t\t\t\t\t\t\t1 Lakh+ Employees (India)\n",
              " \t\t\t\t\t\t</p>]"
            ]
          },
          "metadata": {},
          "execution_count": 18
        }
      ]
    },
    {
      "cell_type": "code",
      "source": [
        "domain , location , employee_count , company_age = [] , [] , [] , []\n",
        "for i in range(len(company_info_tags)) :\n",
        "  domain.append(company_info_tags[i].find_all('p' , class_ = 'infoEntity')[0].text.strip())\n",
        "  location.append(company_info_tags[i].find_all('p' , class_ = 'infoEntity')[1].text.strip())\n",
        "  company_age.append(company_info_tags[i].find_all('p' , class_ = 'infoEntity')[2].text.strip())\n",
        "  employee_count.append(company_info_tags[i].find_all('p' , class_ = 'infoEntity')[3].text.strip())\n",
        "\n"
      ],
      "metadata": {
        "id": "_eXW1NTzS7UN"
      },
      "execution_count": 33,
      "outputs": []
    },
    {
      "cell_type": "markdown",
      "source": [
        "### Columns that we have now.\n",
        "1. names\n",
        "2. ratings \n",
        "3. reviews\n",
        "4. domain\n",
        "5. location\n",
        "6. company_age\n",
        "7. employee_count"
      ],
      "metadata": {
        "id": "SiY2YwHNUgWQ"
      }
    },
    {
      "cell_type": "code",
      "source": [
        "len(names) , len(ratings) , len(reviews) , len(domain) , len(location) , len(company_age) , len(employee_count)"
      ],
      "metadata": {
        "colab": {
          "base_uri": "https://localhost:8080/"
        },
        "id": "ZAZ2W--PUdYY",
        "outputId": "79d0fb1e-de8e-4200-e51d-79136ad4825a"
      },
      "execution_count": 34,
      "outputs": [
        {
          "output_type": "execute_result",
          "data": {
            "text/plain": [
              "(30, 30, 30, 30, 30, 30, 30)"
            ]
          },
          "metadata": {},
          "execution_count": 34
        }
      ]
    },
    {
      "cell_type": "code",
      "source": [
        "dictionary = {\n",
        "    'CompanyName' : names, \n",
        "    'Ratings' : ratings,\n",
        "    'Reviews' : reviews,\n",
        "    'Domain' : domain,\n",
        "    'Location' : location,\n",
        "    'CompanyAge' : company_age,\n",
        "    'EmployeeCount' : employee_count\n",
        "}"
      ],
      "metadata": {
        "id": "fiIgUDQoVxhL"
      },
      "execution_count": 35,
      "outputs": []
    },
    {
      "cell_type": "code",
      "source": [
        "df = pd.DataFrame(dictionary)"
      ],
      "metadata": {
        "id": "-AcfLMSJV9q8"
      },
      "execution_count": 38,
      "outputs": []
    },
    {
      "cell_type": "code",
      "source": [
        "df.head()"
      ],
      "metadata": {
        "colab": {
          "base_uri": "https://localhost:8080/",
          "height": 206
        },
        "id": "-tzUN1XFWDIz",
        "outputId": "2055f663-aff6-47b0-d38d-454cd1281475"
      },
      "execution_count": 39,
      "outputs": [
        {
          "output_type": "execute_result",
          "data": {
            "text/plain": [
              "  CompanyName Ratings          Reviews   Domain  \\\n",
              "0         TCS     3.9    (51k Reviews)   Public   \n",
              "1   Accenture     4.1    (33k Reviews)   Public   \n",
              "2   Cognizant     3.9  (30.3k Reviews)  Private   \n",
              "3  ICICI Bank     4.0  (35.4k Reviews)   Public   \n",
              "4   HDFC Bank     4.0  (40.7k Reviews)   Public   \n",
              "\n",
              "                          Location    CompanyAge              EmployeeCount  \n",
              "0    Mumbai,Maharashtra + 280 more  54 years old  1 Lakh+ Employees (India)  \n",
              "1                Dublin + 143 more  33 years old  1 Lakh+ Employees (India)  \n",
              "2  Teaneck. New Jersey. + 101 more  28 years old  1 Lakh+ Employees (India)  \n",
              "3   Mumbai,Maharashtra + 1049 more  28 years old  1 Lakh+ Employees (India)  \n",
              "4   Mumbai,Maharashtra + 1230 more  28 years old  1 Lakh+ Employees (India)  "
            ],
            "text/html": [
              "\n",
              "  <div id=\"df-44e27a27-c90f-4953-9688-fde5af5a809d\">\n",
              "    <div class=\"colab-df-container\">\n",
              "      <div>\n",
              "<style scoped>\n",
              "    .dataframe tbody tr th:only-of-type {\n",
              "        vertical-align: middle;\n",
              "    }\n",
              "\n",
              "    .dataframe tbody tr th {\n",
              "        vertical-align: top;\n",
              "    }\n",
              "\n",
              "    .dataframe thead th {\n",
              "        text-align: right;\n",
              "    }\n",
              "</style>\n",
              "<table border=\"1\" class=\"dataframe\">\n",
              "  <thead>\n",
              "    <tr style=\"text-align: right;\">\n",
              "      <th></th>\n",
              "      <th>CompanyName</th>\n",
              "      <th>Ratings</th>\n",
              "      <th>Reviews</th>\n",
              "      <th>Domain</th>\n",
              "      <th>Location</th>\n",
              "      <th>CompanyAge</th>\n",
              "      <th>EmployeeCount</th>\n",
              "    </tr>\n",
              "  </thead>\n",
              "  <tbody>\n",
              "    <tr>\n",
              "      <th>0</th>\n",
              "      <td>TCS</td>\n",
              "      <td>3.9</td>\n",
              "      <td>(51k Reviews)</td>\n",
              "      <td>Public</td>\n",
              "      <td>Mumbai,Maharashtra + 280 more</td>\n",
              "      <td>54 years old</td>\n",
              "      <td>1 Lakh+ Employees (India)</td>\n",
              "    </tr>\n",
              "    <tr>\n",
              "      <th>1</th>\n",
              "      <td>Accenture</td>\n",
              "      <td>4.1</td>\n",
              "      <td>(33k Reviews)</td>\n",
              "      <td>Public</td>\n",
              "      <td>Dublin + 143 more</td>\n",
              "      <td>33 years old</td>\n",
              "      <td>1 Lakh+ Employees (India)</td>\n",
              "    </tr>\n",
              "    <tr>\n",
              "      <th>2</th>\n",
              "      <td>Cognizant</td>\n",
              "      <td>3.9</td>\n",
              "      <td>(30.3k Reviews)</td>\n",
              "      <td>Private</td>\n",
              "      <td>Teaneck. New Jersey. + 101 more</td>\n",
              "      <td>28 years old</td>\n",
              "      <td>1 Lakh+ Employees (India)</td>\n",
              "    </tr>\n",
              "    <tr>\n",
              "      <th>3</th>\n",
              "      <td>ICICI Bank</td>\n",
              "      <td>4.0</td>\n",
              "      <td>(35.4k Reviews)</td>\n",
              "      <td>Public</td>\n",
              "      <td>Mumbai,Maharashtra + 1049 more</td>\n",
              "      <td>28 years old</td>\n",
              "      <td>1 Lakh+ Employees (India)</td>\n",
              "    </tr>\n",
              "    <tr>\n",
              "      <th>4</th>\n",
              "      <td>HDFC Bank</td>\n",
              "      <td>4.0</td>\n",
              "      <td>(40.7k Reviews)</td>\n",
              "      <td>Public</td>\n",
              "      <td>Mumbai,Maharashtra + 1230 more</td>\n",
              "      <td>28 years old</td>\n",
              "      <td>1 Lakh+ Employees (India)</td>\n",
              "    </tr>\n",
              "  </tbody>\n",
              "</table>\n",
              "</div>\n",
              "      <button class=\"colab-df-convert\" onclick=\"convertToInteractive('df-44e27a27-c90f-4953-9688-fde5af5a809d')\"\n",
              "              title=\"Convert this dataframe to an interactive table.\"\n",
              "              style=\"display:none;\">\n",
              "        \n",
              "  <svg xmlns=\"http://www.w3.org/2000/svg\" height=\"24px\"viewBox=\"0 0 24 24\"\n",
              "       width=\"24px\">\n",
              "    <path d=\"M0 0h24v24H0V0z\" fill=\"none\"/>\n",
              "    <path d=\"M18.56 5.44l.94 2.06.94-2.06 2.06-.94-2.06-.94-.94-2.06-.94 2.06-2.06.94zm-11 1L8.5 8.5l.94-2.06 2.06-.94-2.06-.94L8.5 2.5l-.94 2.06-2.06.94zm10 10l.94 2.06.94-2.06 2.06-.94-2.06-.94-.94-2.06-.94 2.06-2.06.94z\"/><path d=\"M17.41 7.96l-1.37-1.37c-.4-.4-.92-.59-1.43-.59-.52 0-1.04.2-1.43.59L10.3 9.45l-7.72 7.72c-.78.78-.78 2.05 0 2.83L4 21.41c.39.39.9.59 1.41.59.51 0 1.02-.2 1.41-.59l7.78-7.78 2.81-2.81c.8-.78.8-2.07 0-2.86zM5.41 20L4 18.59l7.72-7.72 1.47 1.35L5.41 20z\"/>\n",
              "  </svg>\n",
              "      </button>\n",
              "      \n",
              "  <style>\n",
              "    .colab-df-container {\n",
              "      display:flex;\n",
              "      flex-wrap:wrap;\n",
              "      gap: 12px;\n",
              "    }\n",
              "\n",
              "    .colab-df-convert {\n",
              "      background-color: #E8F0FE;\n",
              "      border: none;\n",
              "      border-radius: 50%;\n",
              "      cursor: pointer;\n",
              "      display: none;\n",
              "      fill: #1967D2;\n",
              "      height: 32px;\n",
              "      padding: 0 0 0 0;\n",
              "      width: 32px;\n",
              "    }\n",
              "\n",
              "    .colab-df-convert:hover {\n",
              "      background-color: #E2EBFA;\n",
              "      box-shadow: 0px 1px 2px rgba(60, 64, 67, 0.3), 0px 1px 3px 1px rgba(60, 64, 67, 0.15);\n",
              "      fill: #174EA6;\n",
              "    }\n",
              "\n",
              "    [theme=dark] .colab-df-convert {\n",
              "      background-color: #3B4455;\n",
              "      fill: #D2E3FC;\n",
              "    }\n",
              "\n",
              "    [theme=dark] .colab-df-convert:hover {\n",
              "      background-color: #434B5C;\n",
              "      box-shadow: 0px 1px 3px 1px rgba(0, 0, 0, 0.15);\n",
              "      filter: drop-shadow(0px 1px 2px rgba(0, 0, 0, 0.3));\n",
              "      fill: #FFFFFF;\n",
              "    }\n",
              "  </style>\n",
              "\n",
              "      <script>\n",
              "        const buttonEl =\n",
              "          document.querySelector('#df-44e27a27-c90f-4953-9688-fde5af5a809d button.colab-df-convert');\n",
              "        buttonEl.style.display =\n",
              "          google.colab.kernel.accessAllowed ? 'block' : 'none';\n",
              "\n",
              "        async function convertToInteractive(key) {\n",
              "          const element = document.querySelector('#df-44e27a27-c90f-4953-9688-fde5af5a809d');\n",
              "          const dataTable =\n",
              "            await google.colab.kernel.invokeFunction('convertToInteractive',\n",
              "                                                     [key], {});\n",
              "          if (!dataTable) return;\n",
              "\n",
              "          const docLinkHtml = 'Like what you see? Visit the ' +\n",
              "            '<a target=\"_blank\" href=https://colab.research.google.com/notebooks/data_table.ipynb>data table notebook</a>'\n",
              "            + ' to learn more about interactive tables.';\n",
              "          element.innerHTML = '';\n",
              "          dataTable['output_type'] = 'display_data';\n",
              "          await google.colab.output.renderOutput(dataTable, element);\n",
              "          const docLink = document.createElement('div');\n",
              "          docLink.innerHTML = docLinkHtml;\n",
              "          element.appendChild(docLink);\n",
              "        }\n",
              "      </script>\n",
              "    </div>\n",
              "  </div>\n",
              "  "
            ]
          },
          "metadata": {},
          "execution_count": 39
        }
      ]
    },
    {
      "cell_type": "code",
      "source": [
        "df.sample(5)"
      ],
      "metadata": {
        "colab": {
          "base_uri": "https://localhost:8080/",
          "height": 206
        },
        "id": "eW-_yU0bXAcS",
        "outputId": "3ec838c3-d918-4fa8-c799-50c1e73298e6"
      },
      "execution_count": 41,
      "outputs": [
        {
          "output_type": "execute_result",
          "data": {
            "text/plain": [
              "            CompanyName Ratings          Reviews   Domain  \\\n",
              "26               BYJU'S     3.5  (12.7k Reviews)  Private   \n",
              "17        Vodafone Idea     4.2    (14k Reviews)   Public   \n",
              "5                 Wipro     3.9  (29.3k Reviews)   Public   \n",
              "4             HDFC Bank     4.0  (40.7k Reviews)   Public   \n",
              "21  Reliance Industr...     4.1  (44.9k Reviews)   Public   \n",
              "\n",
              "                                    Location    CompanyAge  \\\n",
              "26            Bangalore,Karnataka + 235 more  11 years old   \n",
              "17             Gandhinagar,Gujrat + 569 more   4 years old   \n",
              "5   Bangalore/Bengaluru,Karnataka + 232 more  77 years old   \n",
              "4             Mumbai,Maharashtra + 1230 more  28 years old   \n",
              "21        Navi Mumbai,Maharashtra + 490 more  49 years old   \n",
              "\n",
              "                EmployeeCount  \n",
              "26    1k-5k Employees (India)  \n",
              "17  10k-50k Employees (India)  \n",
              "5   1 Lakh+ Employees (India)  \n",
              "4   1 Lakh+ Employees (India)  \n",
              "21  1 Lakh+ Employees (India)  "
            ],
            "text/html": [
              "\n",
              "  <div id=\"df-373d5b27-6d48-4ce5-a21a-2327768d4f15\">\n",
              "    <div class=\"colab-df-container\">\n",
              "      <div>\n",
              "<style scoped>\n",
              "    .dataframe tbody tr th:only-of-type {\n",
              "        vertical-align: middle;\n",
              "    }\n",
              "\n",
              "    .dataframe tbody tr th {\n",
              "        vertical-align: top;\n",
              "    }\n",
              "\n",
              "    .dataframe thead th {\n",
              "        text-align: right;\n",
              "    }\n",
              "</style>\n",
              "<table border=\"1\" class=\"dataframe\">\n",
              "  <thead>\n",
              "    <tr style=\"text-align: right;\">\n",
              "      <th></th>\n",
              "      <th>CompanyName</th>\n",
              "      <th>Ratings</th>\n",
              "      <th>Reviews</th>\n",
              "      <th>Domain</th>\n",
              "      <th>Location</th>\n",
              "      <th>CompanyAge</th>\n",
              "      <th>EmployeeCount</th>\n",
              "    </tr>\n",
              "  </thead>\n",
              "  <tbody>\n",
              "    <tr>\n",
              "      <th>26</th>\n",
              "      <td>BYJU'S</td>\n",
              "      <td>3.5</td>\n",
              "      <td>(12.7k Reviews)</td>\n",
              "      <td>Private</td>\n",
              "      <td>Bangalore,Karnataka + 235 more</td>\n",
              "      <td>11 years old</td>\n",
              "      <td>1k-5k Employees (India)</td>\n",
              "    </tr>\n",
              "    <tr>\n",
              "      <th>17</th>\n",
              "      <td>Vodafone Idea</td>\n",
              "      <td>4.2</td>\n",
              "      <td>(14k Reviews)</td>\n",
              "      <td>Public</td>\n",
              "      <td>Gandhinagar,Gujrat + 569 more</td>\n",
              "      <td>4 years old</td>\n",
              "      <td>10k-50k Employees (India)</td>\n",
              "    </tr>\n",
              "    <tr>\n",
              "      <th>5</th>\n",
              "      <td>Wipro</td>\n",
              "      <td>3.9</td>\n",
              "      <td>(29.3k Reviews)</td>\n",
              "      <td>Public</td>\n",
              "      <td>Bangalore/Bengaluru,Karnataka + 232 more</td>\n",
              "      <td>77 years old</td>\n",
              "      <td>1 Lakh+ Employees (India)</td>\n",
              "    </tr>\n",
              "    <tr>\n",
              "      <th>4</th>\n",
              "      <td>HDFC Bank</td>\n",
              "      <td>4.0</td>\n",
              "      <td>(40.7k Reviews)</td>\n",
              "      <td>Public</td>\n",
              "      <td>Mumbai,Maharashtra + 1230 more</td>\n",
              "      <td>28 years old</td>\n",
              "      <td>1 Lakh+ Employees (India)</td>\n",
              "    </tr>\n",
              "    <tr>\n",
              "      <th>21</th>\n",
              "      <td>Reliance Industr...</td>\n",
              "      <td>4.1</td>\n",
              "      <td>(44.9k Reviews)</td>\n",
              "      <td>Public</td>\n",
              "      <td>Navi Mumbai,Maharashtra + 490 more</td>\n",
              "      <td>49 years old</td>\n",
              "      <td>1 Lakh+ Employees (India)</td>\n",
              "    </tr>\n",
              "  </tbody>\n",
              "</table>\n",
              "</div>\n",
              "      <button class=\"colab-df-convert\" onclick=\"convertToInteractive('df-373d5b27-6d48-4ce5-a21a-2327768d4f15')\"\n",
              "              title=\"Convert this dataframe to an interactive table.\"\n",
              "              style=\"display:none;\">\n",
              "        \n",
              "  <svg xmlns=\"http://www.w3.org/2000/svg\" height=\"24px\"viewBox=\"0 0 24 24\"\n",
              "       width=\"24px\">\n",
              "    <path d=\"M0 0h24v24H0V0z\" fill=\"none\"/>\n",
              "    <path d=\"M18.56 5.44l.94 2.06.94-2.06 2.06-.94-2.06-.94-.94-2.06-.94 2.06-2.06.94zm-11 1L8.5 8.5l.94-2.06 2.06-.94-2.06-.94L8.5 2.5l-.94 2.06-2.06.94zm10 10l.94 2.06.94-2.06 2.06-.94-2.06-.94-.94-2.06-.94 2.06-2.06.94z\"/><path d=\"M17.41 7.96l-1.37-1.37c-.4-.4-.92-.59-1.43-.59-.52 0-1.04.2-1.43.59L10.3 9.45l-7.72 7.72c-.78.78-.78 2.05 0 2.83L4 21.41c.39.39.9.59 1.41.59.51 0 1.02-.2 1.41-.59l7.78-7.78 2.81-2.81c.8-.78.8-2.07 0-2.86zM5.41 20L4 18.59l7.72-7.72 1.47 1.35L5.41 20z\"/>\n",
              "  </svg>\n",
              "      </button>\n",
              "      \n",
              "  <style>\n",
              "    .colab-df-container {\n",
              "      display:flex;\n",
              "      flex-wrap:wrap;\n",
              "      gap: 12px;\n",
              "    }\n",
              "\n",
              "    .colab-df-convert {\n",
              "      background-color: #E8F0FE;\n",
              "      border: none;\n",
              "      border-radius: 50%;\n",
              "      cursor: pointer;\n",
              "      display: none;\n",
              "      fill: #1967D2;\n",
              "      height: 32px;\n",
              "      padding: 0 0 0 0;\n",
              "      width: 32px;\n",
              "    }\n",
              "\n",
              "    .colab-df-convert:hover {\n",
              "      background-color: #E2EBFA;\n",
              "      box-shadow: 0px 1px 2px rgba(60, 64, 67, 0.3), 0px 1px 3px 1px rgba(60, 64, 67, 0.15);\n",
              "      fill: #174EA6;\n",
              "    }\n",
              "\n",
              "    [theme=dark] .colab-df-convert {\n",
              "      background-color: #3B4455;\n",
              "      fill: #D2E3FC;\n",
              "    }\n",
              "\n",
              "    [theme=dark] .colab-df-convert:hover {\n",
              "      background-color: #434B5C;\n",
              "      box-shadow: 0px 1px 3px 1px rgba(0, 0, 0, 0.15);\n",
              "      filter: drop-shadow(0px 1px 2px rgba(0, 0, 0, 0.3));\n",
              "      fill: #FFFFFF;\n",
              "    }\n",
              "  </style>\n",
              "\n",
              "      <script>\n",
              "        const buttonEl =\n",
              "          document.querySelector('#df-373d5b27-6d48-4ce5-a21a-2327768d4f15 button.colab-df-convert');\n",
              "        buttonEl.style.display =\n",
              "          google.colab.kernel.accessAllowed ? 'block' : 'none';\n",
              "\n",
              "        async function convertToInteractive(key) {\n",
              "          const element = document.querySelector('#df-373d5b27-6d48-4ce5-a21a-2327768d4f15');\n",
              "          const dataTable =\n",
              "            await google.colab.kernel.invokeFunction('convertToInteractive',\n",
              "                                                     [key], {});\n",
              "          if (!dataTable) return;\n",
              "\n",
              "          const docLinkHtml = 'Like what you see? Visit the ' +\n",
              "            '<a target=\"_blank\" href=https://colab.research.google.com/notebooks/data_table.ipynb>data table notebook</a>'\n",
              "            + ' to learn more about interactive tables.';\n",
              "          element.innerHTML = '';\n",
              "          dataTable['output_type'] = 'display_data';\n",
              "          await google.colab.output.renderOutput(dataTable, element);\n",
              "          const docLink = document.createElement('div');\n",
              "          docLink.innerHTML = docLinkHtml;\n",
              "          element.appendChild(docLink);\n",
              "        }\n",
              "      </script>\n",
              "    </div>\n",
              "  </div>\n",
              "  "
            ]
          },
          "metadata": {},
          "execution_count": 41
        }
      ]
    },
    {
      "cell_type": "code",
      "source": [
        "df.to_csv('final_csv')"
      ],
      "metadata": {
        "id": "nHWcvbeBYDh1"
      },
      "execution_count": 42,
      "outputs": []
    },
    {
      "cell_type": "code",
      "source": [],
      "metadata": {
        "id": "ccxZqm5BZlG_"
      },
      "execution_count": null,
      "outputs": []
    }
  ]
}